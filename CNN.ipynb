{
 "cells": [
  {
   "cell_type": "code",
   "execution_count": 1,
   "id": "0e0147a9-3341-4eef-a6f4-04ae823d522c",
   "metadata": {},
   "outputs": [],
   "source": [
    "import tensorflow as tf\n",
    "from tensorflow.keras.models import Sequential\n",
    "from tensorflow.keras.layers import Dense, Dropout, Activation, Flatten, Conv2D, MaxPooling2D\n",
    "from utils import get_data_loaders\n",
    "import torch\n",
    "import numpy as np\n",
    "import matplotlib.pyplot as plt"
   ]
  },
  {
   "cell_type": "markdown",
   "id": "d0a23520-c758-4ba8-b2b1-a0aec795bb01",
   "metadata": {},
   "source": [
    "## create CNN model"
   ]
  },
  {
   "cell_type": "code",
   "execution_count": 2,
   "id": "6dfc61f4-f9b7-433f-824c-b69a9962fd2f",
   "metadata": {},
   "outputs": [],
   "source": [
    "model = Sequential ()\n",
    "model.add(Conv2D (64, (3,3), input_shape = (32,32,3)))\n",
    "model.add(Activation(\"relu\"))\n",
    "model.add(MaxPooling2D(pool_size=(2,2)))\n",
    "\n",
    "model.add(Conv2D(64, (3,3)))\n",
    "model.add(Activation(\"relu\"))\n",
    "model.add(MaxPooling2D(pool_size=(2,2)))\n",
    "          \n",
    "model.add(Flatten())\n",
    "model.add(Dense(64))     \n",
    "model.add(Activation( 'relu'))   \n",
    "model.add(Dense(10, activation='softmax'))\n",
    "model.compile(loss='sparse_categorical_crossentropy', optimizer = \"adam\", metrics=['accuracy'])"
   ]
  },
  {
   "cell_type": "markdown",
   "id": "3f449e75-dce9-456c-9d66-2c55cc9642b8",
   "metadata": {},
   "source": [
    "## create data loader"
   ]
  },
  {
   "cell_type": "code",
   "execution_count": 3,
   "id": "e1094aa8-b0f8-4701-8bcc-7dd1dab52f60",
   "metadata": {},
   "outputs": [
    {
     "name": "stdout",
     "output_type": "stream",
     "text": [
      "datafiles to read:  {'train': './data/12000_train_mnistmnistmsvhnsynusps.npz', 'test': './data/12000_test_mnistmnistmsvhnsynusps.npz'}\n",
      "reading ./data/12000_train_mnistmnistmsvhnsynusps.npz, number of samples: 60000\n",
      "reading ./data/12000_test_mnistmnistmsvhnsynusps.npz, number of samples: 21600\n",
      "reading ./data/12000_test_mnistmnistmsvhnsynusps.npz, number of samples: 21600\n"
     ]
    }
   ],
   "source": [
    "\n",
    "full_dataloaders, _ = get_data_loaders(\n",
    "     filenames={\n",
    "            'train': './data/12000_train_mnistmnistmsvhnsynusps.npz',\n",
    "            'test': './data/12000_test_mnistmnistmsvhnsynusps.npz',\n",
    "      },\n",
    "       batch_size= 6000\n",
    "    )"
   ]
  },
  {
   "cell_type": "markdown",
   "id": "4b7ee8d0-9634-4d48-846a-d41992e6bc2b",
   "metadata": {},
   "source": [
    "## loade data and train CNN model "
   ]
  },
  {
   "cell_type": "code",
   "execution_count": 5,
   "id": "d1b42306-1f64-4e90-98f3-aacea9b2563d",
   "metadata": {
    "tags": []
   },
   "outputs": [
    {
     "name": "stdout",
     "output_type": "stream",
     "text": [
      "images shape:  torch.Size([6000, 3, 32, 32])\n",
      "features shape:  torch.Size([6000, 256])\n",
      "domain labels freq:  (tensor([0, 1, 2, 3, 4]), tensor([1181, 1247, 1186, 1210, 1176]))\n",
      "digit labels freq:  (tensor([0, 1, 2, 3, 4, 5, 6, 7, 8, 9]), tensor([652, 792, 647, 625, 567, 513, 516, 574, 534, 580]))\n",
      "Epoch 1/10\n",
      "169/169 [==============================] - 4s 20ms/step - loss: 1.2880 - accuracy: 0.5672 - val_loss: 0.7279 - val_accuracy: 0.7767\n",
      "Epoch 2/10\n",
      "169/169 [==============================] - 3s 19ms/step - loss: 0.6437 - accuracy: 0.8067 - val_loss: 0.6152 - val_accuracy: 0.7900\n",
      "Epoch 3/10\n",
      "169/169 [==============================] - 3s 19ms/step - loss: 0.4893 - accuracy: 0.8498 - val_loss: 0.5576 - val_accuracy: 0.8317\n",
      "Epoch 4/10\n",
      "169/169 [==============================] - 3s 19ms/step - loss: 0.3873 - accuracy: 0.8794 - val_loss: 0.4942 - val_accuracy: 0.8517\n",
      "Epoch 5/10\n",
      "169/169 [==============================] - 3s 19ms/step - loss: 0.2826 - accuracy: 0.9163 - val_loss: 0.4923 - val_accuracy: 0.8517\n",
      "Epoch 6/10\n",
      "169/169 [==============================] - 3s 19ms/step - loss: 0.2465 - accuracy: 0.9237 - val_loss: 0.5427 - val_accuracy: 0.8400\n",
      "Epoch 7/10\n",
      "169/169 [==============================] - 3s 19ms/step - loss: 0.2055 - accuracy: 0.9370 - val_loss: 0.5546 - val_accuracy: 0.8533\n",
      "Epoch 8/10\n",
      "169/169 [==============================] - 3s 19ms/step - loss: 0.1547 - accuracy: 0.9489 - val_loss: 0.5419 - val_accuracy: 0.8550\n",
      "Epoch 9/10\n",
      "169/169 [==============================] - 3s 20ms/step - loss: 0.1314 - accuracy: 0.9596 - val_loss: 0.5983 - val_accuracy: 0.8600\n",
      "Epoch 10/10\n",
      "169/169 [==============================] - 3s 19ms/step - loss: 0.0861 - accuracy: 0.9744 - val_loss: 0.6193 - val_accuracy: 0.8550\n"
     ]
    },
    {
     "data": {
      "text/plain": [
       "<keras.src.callbacks.History at 0x17fe4e290>"
      ]
     },
     "execution_count": 5,
     "metadata": {},
     "output_type": "execute_result"
    }
   ],
   "source": [
    "\n",
    "(images, features, domain_labels, digit_labels) =next(iter(full_dataloaders['train']))\n",
    "\n",
    "print('images shape: ', images.shape)\n",
    "print('features shape: ', features.shape)\n",
    "print('domain labels freq: ', torch.unique(domain_labels, return_counts=True))\n",
    "print('digit labels freq: ', torch.unique(digit_labels, return_counts=True))\n",
    "\n",
    "#changing indexes (3,32,32) to (32,32,3)\n",
    "img = torch.einsum('zkij->zijk',images)\n",
    "model.fit(img.numpy(),digit_labels.numpy(),epochs=10, batch_size=32, validation_split=0.1)\n",
    "       "
   ]
  },
  {
   "cell_type": "markdown",
   "id": "d5ba600a-25b3-4cb2-a190-86f243f52a30",
   "metadata": {},
   "source": [
    "# every thing after that is temp "
   ]
  },
  {
   "cell_type": "code",
   "execution_count": 47,
   "id": "54f56cc6-3608-4a92-88f5-299c360e1d6d",
   "metadata": {},
   "outputs": [
    {
     "name": "stderr",
     "output_type": "stream",
     "text": [
      "Clipping input data to the valid range for imshow with RGB data ([0..1] for floats or [0..255] for integers).\n"
     ]
    },
    {
     "data": {
      "image/png": "[encoded data removed]",
      "text/plain": [
       "<Figure size 640x480 with 1 Axes>"
      ]
     },
     "metadata": {},
     "output_type": "display_data"
    },
    {
     "name": "stdout",
     "output_type": "stream",
     "text": [
      "1/1 [==============================] - 0s 14ms/step\n"
     ]
    }
   ],
   "source": [
    "test =img.numpy()\n",
    "plt.imshow(test[19])\n",
    "plt.show()\n",
    "model.predict(test[:1])\n",
    "p = model.layers\n"
   ]
  },
  {
   "cell_type": "code",
   "execution_count": 88,
   "id": "9de428f4-4baf-4310-8f7f-b0ddfa45a964",
   "metadata": {},
   "outputs": [
    {
     "ename": "TypeError",
     "evalue": "list indices must be integers or slices, not tuple",
     "output_type": "error",
     "traceback": [
      "\u001b[0;31m---------------------------------------------------------------------------\u001b[0m",
      "\u001b[0;31mTypeError\u001b[0m                                 Traceback (most recent call last)",
      "Cell \u001b[0;32mIn[88], line 1\u001b[0m\n\u001b[0;32m----> 1\u001b[0m \u001b[38;5;28mprint\u001b[39m(\u001b[43mlayer_outputs\u001b[49m\u001b[43m[\u001b[49m\u001b[38;5;241;43m9\u001b[39;49m\u001b[43m,\u001b[49m\u001b[38;5;241;43m2\u001b[39;49m\u001b[43m]\u001b[49m)\n\u001b[1;32m      2\u001b[0m \u001b[38;5;28mprint\u001b[39m(\u001b[38;5;124m\"\u001b[39m\u001b[38;5;124m-------------\u001b[39m\u001b[38;5;124m\"\u001b[39m)\n",
      "\u001b[0;31mTypeError\u001b[0m: list indices must be integers or slices, not tuple"
     ]
    }
   ],
   "source": [
    "print(layer_outputs[9])\n",
    "print(\"-------------\")\n"
   ]
  },
  {
   "cell_type": "code",
   "execution_count": null,
   "id": "b062aa88-dcc7-42d4-bcd7-46738d0a3e97",
   "metadata": {},
   "outputs": [],
   "source": []
  },
  {
   "cell_type": "code",
   "execution_count": null,
   "id": "714aebdc-61e0-4a97-b36d-55004d97bacc",
   "metadata": {},
   "outputs": [],
   "source": []
  }
 ],
 "metadata": {
  "kernelspec": {
   "display_name": "Python 3 (ipykernel)",
   "language": "python",
   "name": "python3"
  },
  "language_info": {
   "codemirror_mode": {
    "name": "ipython",
    "version": 3
   },
   "file_extension": ".py",
   "mimetype": "text/x-python",
   "name": "python",
   "nbconvert_exporter": "python",
   "pygments_lexer": "ipython3",
   "version": "3.10.9"
  }
 },
 "nbformat": 4,
 "nbformat_minor": 5
}
