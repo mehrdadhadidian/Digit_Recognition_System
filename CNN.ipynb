{
 "cells": [
  {
   "cell_type": "code",
   "execution_count": 15,
   "id": "0e0147a9-3341-4eef-a6f4-04ae823d522c",
   "metadata": {},
   "outputs": [],
   "source": [
    "import tensorflow as tf\n",
    "from tensorflow.keras.models import Sequential , load_model\n",
    "from tensorflow.keras.layers import Dense, Dropout, Activation, Flatten, Conv2D, MaxPooling2D\n",
    "from utils import get_data_loaders\n",
    "import torch\n",
    "import numpy as np\n",
    "import matplotlib.pyplot as plt\n",
    "from keras.callbacks import ModelCheckpoint\n"
   ]
  },
  {
   "cell_type": "markdown",
   "id": "d0a23520-c758-4ba8-b2b1-a0aec795bb01",
   "metadata": {},
   "source": [
    "## create CNN model"
   ]
  },
  {
   "cell_type": "code",
   "execution_count": 8,
   "id": "6dfc61f4-f9b7-433f-824c-b69a9962fd2f",
   "metadata": {},
   "outputs": [],
   "source": [
    "model = Sequential ()\n",
    "model.add(Conv2D (64, (3,3), input_shape = (32,32,3)))\n",
    "model.add(Activation(\"relu\"))\n",
    "model.add(MaxPooling2D(pool_size=(2,2)))\n",
    "\n",
    "model.add(Conv2D(64, (3,3)))\n",
    "model.add(Activation(\"relu\"))\n",
    "model.add(MaxPooling2D(pool_size=(2,2)))\n",
    "          \n",
    "model.add(Flatten())\n",
    "model.add(Dense(256))     \n",
    "model.add(Activation( 'softmax'))   \n",
    "model.compile(loss='mean_squared_error', optimizer = \"adam\", metrics=['accuracy'])"
   ]
  },
  {
   "cell_type": "markdown",
   "id": "3f449e75-dce9-456c-9d66-2c55cc9642b8",
   "metadata": {},
   "source": [
    "## create data loader"
   ]
  },
  {
   "cell_type": "code",
   "execution_count": 9,
   "id": "e1094aa8-b0f8-4701-8bcc-7dd1dab52f60",
   "metadata": {},
   "outputs": [
    {
     "name": "stdout",
     "output_type": "stream",
     "text": [
      "datafiles to read:  {'train': './data/12000_train_mnistmnistmsvhnsynusps.npz', 'test': './data/12000_test_mnistmnistmsvhnsynusps.npz'}\n",
      "reading ./data/12000_train_mnistmnistmsvhnsynusps.npz, number of samples: 60000\n",
      "reading ./data/12000_test_mnistmnistmsvhnsynusps.npz, number of samples: 21600\n",
      "reading ./data/12000_test_mnistmnistmsvhnsynusps.npz, number of samples: 21600\n"
     ]
    }
   ],
   "source": [
    "\n",
    "full_dataloaders, _ = get_data_loaders(\n",
    "     filenames={\n",
    "            'train': './data/12000_train_mnistmnistmsvhnsynusps.npz',\n",
    "            'test': './data/12000_test_mnistmnistmsvhnsynusps.npz',\n",
    "      },\n",
    "       batch_size= 6000\n",
    "    )"
   ]
  },
  {
   "cell_type": "markdown",
   "id": "4b7ee8d0-9634-4d48-846a-d41992e6bc2b",
   "metadata": {},
   "source": [
    "## loade data and train CNN model "
   ]
  },
  {
   "cell_type": "code",
   "execution_count": 10,
   "id": "d1b42306-1f64-4e90-98f3-aacea9b2563d",
   "metadata": {
    "tags": []
   },
   "outputs": [
    {
     "name": "stdout",
     "output_type": "stream",
     "text": [
      "images shape:  torch.Size([6000, 3, 32, 32])\n",
      "features shape:  torch.Size([6000, 256])\n",
      "domain labels freq:  (tensor([0, 1, 2, 3, 4]), tensor([1224, 1217, 1180, 1204, 1175]))\n",
      "digit labels freq:  (tensor([0, 1, 2, 3, 4, 5, 6, 7, 8, 9]), tensor([666, 783, 658, 603, 573, 496, 580, 560, 555, 526]))\n",
      "Epoch 1/10\n",
      "169/169 [==============================] - 4s 20ms/step - loss: 0.9659 - accuracy: 0.5559 - val_loss: 0.9373 - val_accuracy: 0.6750\n",
      "Epoch 2/10\n",
      "169/169 [==============================] - 3s 20ms/step - loss: 0.9582 - accuracy: 0.6806 - val_loss: 0.9365 - val_accuracy: 0.6933\n",
      "Epoch 3/10\n",
      "169/169 [==============================] - 3s 20ms/step - loss: 0.9576 - accuracy: 0.7035 - val_loss: 0.9362 - val_accuracy: 0.7167\n",
      "Epoch 4/10\n",
      "169/169 [==============================] - 3s 20ms/step - loss: 0.9574 - accuracy: 0.7157 - val_loss: 0.9360 - val_accuracy: 0.7250\n",
      "Epoch 5/10\n",
      "169/169 [==============================] - 4s 21ms/step - loss: 0.9573 - accuracy: 0.7200 - val_loss: 0.9360 - val_accuracy: 0.7233\n",
      "Epoch 6/10\n",
      "169/169 [==============================] - 3s 20ms/step - loss: 0.9572 - accuracy: 0.7194 - val_loss: 0.9359 - val_accuracy: 0.7267\n",
      "Epoch 7/10\n",
      "169/169 [==============================] - 3s 20ms/step - loss: 0.9573 - accuracy: 0.7228 - val_loss: 0.9361 - val_accuracy: 0.7083\n",
      "Epoch 8/10\n",
      "169/169 [==============================] - 3s 20ms/step - loss: 0.9573 - accuracy: 0.7157 - val_loss: 0.9360 - val_accuracy: 0.7167\n",
      "Epoch 9/10\n",
      "169/169 [==============================] - 3s 20ms/step - loss: 0.9572 - accuracy: 0.7217 - val_loss: 0.9359 - val_accuracy: 0.7250\n",
      "Epoch 10/10\n",
      "169/169 [==============================] - 3s 20ms/step - loss: 0.9572 - accuracy: 0.7237 - val_loss: 0.9359 - val_accuracy: 0.7250\n"
     ]
    },
    {
     "data": {
      "text/plain": [
       "<keras.src.callbacks.History at 0x16dc8a4a0>"
      ]
     },
     "execution_count": 10,
     "metadata": {},
     "output_type": "execute_result"
    }
   ],
   "source": [
    "\n",
    "(images, features, domain_labels, digit_labels) =next(iter(full_dataloaders['train']))\n",
    "\n",
    "print('images shape: ', images.shape)\n",
    "print('features shape: ', features.shape)\n",
    "print('domain labels freq: ', torch.unique(domain_labels, return_counts=True))\n",
    "print('digit labels freq: ', torch.unique(digit_labels, return_counts=True))\n",
    "\n",
    "#changing indexes (3,32,32) to (32,32,3)\n",
    "img = torch.einsum('zkij->zijk',images)\n",
    "model.fit(img.numpy(),features.numpy(),epochs=10, batch_size=32, validation_split=0.1)\n",
    "       "
   ]
  },
  {
   "cell_type": "code",
   "execution_count": 16,
   "id": "b062aa88-dcc7-42d4-bcd7-46738d0a3e97",
   "metadata": {},
   "outputs": [],
   "source": [
    "# Save the trained model\n",
    "model.save('my_model.h5')\n",
    "\n",
    "# Load the saved model\n",
    "loaded_model = load_model('my_model.h5')\n"
   ]
  },
  {
   "cell_type": "code",
   "execution_count": null,
   "id": "714aebdc-61e0-4a97-b36d-55004d97bacc",
   "metadata": {},
   "outputs": [],
   "source": []
  }
 ],
 "metadata": {
  "kernelspec": {
   "display_name": "Python 3 (ipykernel)",
   "language": "python",
   "name": "python3"
  },
  "language_info": {
   "codemirror_mode": {
    "name": "ipython",
    "version": 3
   },
   "file_extension": ".py",
   "mimetype": "text/x-python",
   "name": "python",
   "nbconvert_exporter": "python",
   "pygments_lexer": "ipython3",
   "version": "3.10.9"
  }
 },
 "nbformat": 4,
 "nbformat_minor": 5
}
