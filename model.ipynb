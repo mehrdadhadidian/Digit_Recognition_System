{
 "cells": [
  {
   "cell_type": "code",
   "execution_count": 29,
   "id": "d2e1e3d6-4000-400b-9f28-36d1d7d02a7f",
   "metadata": {},
   "outputs": [],
   "source": [
    "import torch\n",
    "import torch.nn as nn\n",
    "from utils import get_data_loaders\n",
    "import torch.optim as optim\n",
    "import torchvision\n",
    "import torchvision.transforms as transforms\n",
    "import matplotlib.pyplot as plt\n",
    "from triplet_loss import * \n",
    "from tensorflow.keras.models import Sequential , load_model\n",
    "import tensorflow as tf\n"
   ]
  },
  {
   "cell_type": "markdown",
   "id": "a8e1c89d-936d-4559-851c-f8a42117f465",
   "metadata": {},
   "source": [
    "## cearint model"
   ]
  },
  {
   "cell_type": "code",
   "execution_count": 2,
   "id": "fb0e7b96-281b-4d6f-ae48-4ab7fe465fb1",
   "metadata": {
    "tags": []
   },
   "outputs": [],
   "source": [
    "\n",
    "class Model(nn.Module):\n",
    "    def __init__(self):\n",
    "        super(Model, self).__init__()\n",
    "        \n",
    "        # CNN model \n",
    "        self.conv1 = nn.Conv2d(in_channels=3, out_channels=16, kernel_size=3, padding=1)\n",
    "        self.relu1 = nn.ReLU()\n",
    "        self.pool1 = nn.MaxPool2d(kernel_size=2)\n",
    "        \n",
    "        self.conv2 = nn.Conv2d(in_channels=16, out_channels=32, kernel_size=3, padding=1)\n",
    "        self.relu2 = nn.ReLU()\n",
    "        self.pool2 = nn.MaxPool2d(kernel_size=2)\n",
    "        \n",
    "        self.conv3 = nn.Conv2d(in_channels=32, out_channels=64, kernel_size=3, padding=1)\n",
    "        self.relu3 = nn.ReLU()\n",
    "        self.pool3 = nn.MaxPool2d(kernel_size=2)\n",
    "        \n",
    "        self.fc1   = nn.Linear(in_features=64*4*4, out_features=64)\n",
    "        self.relu4 = nn.ReLU()\n",
    "        \n",
    "        #concatinat \n",
    "        self.fc2   = nn.Linear(in_features=64+256, out_features=128)\n",
    "        self.relu5 = nn.ReLU()\n",
    "        \n",
    "        self.fc3   = nn.Linear(in_features=128 , out_features = 10)\n",
    "        \n",
    "\n",
    "        \n",
    "    \n",
    "    def forward(self, x ,features ):\n",
    "        # Define the forward pass through the CNN\n",
    "        x = self.conv1(x)\n",
    "        x = self.relu1(x)\n",
    "        x = self.pool1(x)\n",
    "\n",
    "        x = self.conv2(x)\n",
    "        x = self.relu2(x)\n",
    "        x = self.pool2(x)\n",
    "        \n",
    "        x = self.conv3(x)\n",
    "        x = self.relu3(x)\n",
    "        x = self.pool3(x)\n",
    "        \n",
    "        x = x.view(-1,64*4*4)\n",
    "        x = self.fc1(x)\n",
    "        x = self.relu4(x)\n",
    "        # now x is the out put of cnn model\n",
    "        x = torch.cat((x, features), dim=1)\n",
    "        x = self.fc2(x)\n",
    "        x = self.relu5(x)\n",
    "        output = self.fc3(x)\n",
    "        return output , x\n",
    "    \n",
    "\n",
    "   "
   ]
  },
  {
   "cell_type": "code",
   "execution_count": 3,
   "id": "9cbf711b-d4eb-4bde-a791-4e747032c016",
   "metadata": {
    "tags": []
   },
   "outputs": [
    {
     "name": "stdout",
     "output_type": "stream",
     "text": [
      "datafiles to read:  {'train': './data/12000_train_mnistmnistmsvhnsynusps.npz', 'test': './data/12000_test_mnistmnistmsvhnsynusps.npz'}\n",
      "reading ./data/12000_train_mnistmnistmsvhnsynusps.npz, number of samples: 60000\n",
      "reading ./data/12000_test_mnistmnistmsvhnsynusps.npz, number of samples: 21600\n",
      "reading ./data/12000_test_mnistmnistmsvhnsynusps.npz, number of samples: 21600\n"
     ]
    }
   ],
   "source": [
    "#data loader\n",
    "full_dataloaders, _ = get_data_loaders(\n",
    "     filenames={\n",
    "            'train': './data/12000_train_mnistmnistmsvhnsynusps.npz',\n",
    "            'test': './data/12000_test_mnistmnistmsvhnsynusps.npz',\n",
    "      },\n",
    "       batch_size= 64\n",
    "    )"
   ]
  },
  {
   "cell_type": "markdown",
   "id": "3fc33aa3-12dd-4f58-954c-6d71e1139afe",
   "metadata": {},
   "source": [
    "## training cnn model"
   ]
  },
  {
   "cell_type": "code",
   "execution_count": 15,
   "id": "35cdae15-780a-4d3f-b6df-2f63a27b60f4",
   "metadata": {
    "tags": []
   },
   "outputs": [
    {
     "name": "stdout",
     "output_type": "stream",
     "text": [
      "epoch: 0\n",
      "epoch: 1\n",
      "epoch: 2\n",
      "epoch: 3\n",
      "epoch: 4\n",
      "epoch: 5\n",
      "epoch: 6\n",
      "epoch: 7\n",
      "epoch: 8\n",
      "epoch: 9\n",
      "end training\n"
     ]
    }
   ],
   "source": [
    "#triplet loss coefficient\n",
    "landa = 0\n",
    "#creating model\n",
    "model = Model()\n",
    "\n",
    "# Define the loss function and optimizer\n",
    "criterion = nn.CrossEntropyLoss()\n",
    "t_loss    = triplet_loss()\n",
    "optimizer = optim.SGD(model.parameters(), lr=0.001, momentum=0.9)\n",
    "\n",
    "# Train the model\n",
    "for epoch in range(10):  # loop over the dataset multiple times\n",
    "    print ( \"epoch:\",epoch)\n",
    "    running_loss = 0.0\n",
    "    for batch_indx, (images, features, domain_labels, digit_labels) in enumerate(full_dataloaders['train']):\n",
    "        # get the inputs; data is a list of [inputs, labels]\n",
    "        # inputs, labels = data\n",
    "        # zero the parameter gradients\n",
    "        optimizer.zero_grad()\n",
    "\n",
    "        # forward + backward + optimize\n",
    "        outputs , x = model.forward(images,features)\n",
    "        loss_crossEntopy = criterion(outputs, digit_labels)\n",
    "        loss_triplet = t_loss.forward(x,domain_labels)\n",
    "        loss = loss_crossEntopy + landa * loss_triplet\n",
    "        # print(f\"crossEntropy : {loss_crossEntopy} triplet loos {loss_triplet} loos: {loss}\")\n",
    "\n",
    "        loss.backward()\n",
    "        optimizer.step()\n",
    "\n",
    "        # print statistics\n",
    "        running_loss += loss.item()\n",
    "        if batch_indx % 2000 == 1999:    # print every 2000 mini-batches\n",
    "            print('[%d, %5d] loss: %.3f' %\n",
    "                  (epoch + 1, batch_indx + 1, running_loss / 2000))\n",
    "print (\"end training\")"
   ]
  },
  {
   "cell_type": "markdown",
   "id": "bdbf1074-155e-45c0-b940-e8a81ce5f0a4",
   "metadata": {},
   "source": [
    "## save trained model"
   ]
  },
  {
   "cell_type": "code",
   "execution_count": 5,
   "id": "28b87e84-4de2-4709-9bd4-916be89b7c6f",
   "metadata": {},
   "outputs": [],
   "source": [
    "# save the model\n",
    "torch.save(model.state_dict(), 'model.pt')"
   ]
  },
  {
   "cell_type": "markdown",
   "id": "71ff4d39-adf6-425c-ad33-512b7b1c4035",
   "metadata": {},
   "source": [
    "## test the accuracy "
   ]
  },
  {
   "cell_type": "code",
   "execution_count": 35,
   "id": "468fa0cf-4d51-41b1-aeaa-bfc2dac90aeb",
   "metadata": {},
   "outputs": [
    {
     "data": {
      "text/plain": [
       "<All keys matched successfully>"
      ]
     },
     "execution_count": 35,
     "metadata": {},
     "output_type": "execute_result"
    }
   ],
   "source": [
    "# load the saved model\n",
    "model_state_dict = torch.load('model.pt')\n",
    "\n",
    "model = Model()\n",
    "model.load_state_dict(model_state_dict)"
   ]
  },
  {
   "cell_type": "code",
   "execution_count": 36,
   "id": "19572233-bb9d-49cd-9690-2067f3fe1e01",
   "metadata": {},
   "outputs": [
    {
     "name": "stdout",
     "output_type": "stream",
     "text": [
      "Accuracy of the network on the test images: 63 %\n"
     ]
    }
   ],
   "source": [
    "# Set the model to evaluation mode\n",
    "model.eval()\n",
    "\n",
    "# Initialize a variable to keep track of the total number of correct predictions\n",
    "correct = 0\n",
    "\n",
    "# Initialize a variable to keep track of the total number of images processed\n",
    "total = 0\n",
    "\n",
    "# Iterate over the test data in batches\n",
    "with torch.no_grad():\n",
    "    for batch_indx, (images, features, domain_labels, digit_labels) in enumerate(full_dataloaders['test']):\n",
    "        # Forward pass\n",
    "        outputs,_ = model(images,features)\n",
    "        # Get the predicted labels\n",
    "        _, predicted = torch.max(outputs.data, 1)\n",
    "        # Update the total number of images processed\n",
    "        total += digit_labels.size(0)\n",
    "        # Update the total number of correct predictions\n",
    "        correct += (predicted == digit_labels).sum().item()\n",
    "\n",
    "# Calculate the accuracy\n",
    "accuracy = 100 * correct / total\n",
    "\n",
    "# Print the accuracy\n",
    "print('Accuracy of the network on the test images: %d %%' % accuracy)"
   ]
  },
  {
   "cell_type": "markdown",
   "id": "37834517-7bc0-4399-aa8a-aca99c4667fb",
   "metadata": {},
   "source": [
    "## part 5 of project"
   ]
  },
  {
   "cell_type": "code",
   "execution_count": null,
   "id": "38b707e0-a8a5-4d47-b79e-6ae06b2662c5",
   "metadata": {},
   "outputs": [],
   "source": []
  }
 ],
 "metadata": {
  "kernelspec": {
   "display_name": "Python 3 (ipykernel)",
   "language": "python",
   "name": "python3"
  },
  "language_info": {
   "codemirror_mode": {
    "name": "ipython",
    "version": 3
   },
   "file_extension": ".py",
   "mimetype": "text/x-python",
   "name": "python",
   "nbconvert_exporter": "python",
   "pygments_lexer": "ipython3",
   "version": "3.10.9"
  }
 },
 "nbformat": 4,
 "nbformat_minor": 5
}
