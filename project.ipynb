{
 "cells": [
  {
   "cell_type": "markdown",
   "id": "94eec1cd-a990-40a7-9948-b3afa3acec0a",
   "metadata": {},
   "source": [
    "## import"
   ]
  },
  {
   "cell_type": "code",
   "execution_count": 3,
   "id": "ffe75c9f-ead4-4db7-a6cb-770045c1dc11",
   "metadata": {},
   "outputs": [],
   "source": [
    "from utils import get_data_loaders\n",
    "import torch\n",
    "import torchvision\n",
    "import torch.nn as nn \n",
    "from torch.utils.data import DataLoader\n",
    "from torch.functional import F  \n",
    "from tqdm import trange\n",
    "import numpy as np\n",
    "from tqdm import trange"
   ]
  },
  {
   "cell_type": "markdown",
   "id": "0a6bfda6-7d55-463d-9b71-ac95c6d6bcc5",
   "metadata": {},
   "source": [
    "## loadilng datas"
   ]
  },
  {
   "cell_type": "code",
   "execution_count": 2,
   "id": "972c2b58-0f9b-4e9f-ba76-e046668326f8",
   "metadata": {
    "tags": []
   },
   "outputs": [
    {
     "name": "stdout",
     "output_type": "stream",
     "text": [
      "datafiles to read:  {'train': './data/12000_train_mnistmnistmsvhnsynusps.npz', 'test': './data/12000_test_mnistmnistmsvhnsynusps.npz'}\n",
      "reading ./data/12000_train_mnistmnistmsvhnsynusps.npz, number of samples: 60000\n",
      "reading ./data/12000_test_mnistmnistmsvhnsynusps.npz, number of samples: 21600\n",
      "reading ./data/12000_test_mnistmnistmsvhnsynusps.npz, number of samples: 21600\n",
      "1\n",
      "0-th batch\n",
      "images shape:  torch.Size([64, 3, 32, 32])\n",
      "features shape:  torch.Size([64, 256])\n",
      "domain labels freq:  (tensor([0, 1, 2, 3, 4]), tensor([10, 13, 11, 18, 12]))\n",
      "digit labels freq:  (tensor([0, 1, 2, 3, 4, 5, 6, 7, 8, 9]), tensor([ 6,  5,  8,  5,  6,  9, 10,  7,  5,  3]))\n",
      "\n"
     ]
    }
   ],
   "source": [
    "full_dataloaders, _ = get_data_loaders(\n",
    "     filenames={\n",
    "            'train': './data/12000_train_mnistmnistmsvhnsynusps.npz',\n",
    "            'test': './data/12000_test_mnistmnistmsvhnsynusps.npz',\n",
    "      },\n",
    "       batch_size= 64\n",
    "    )\n",
    "#load data batch \n",
    "for batch_indx, (images, features, domain_labels, digit_labels) in enumerate(full_dataloaders['train']):\n",
    "            print(1)\n",
    "            print(f'{batch_indx}-th batch')\n",
    "            print('images shape: ', images.shape)\n",
    "            print('features shape: ', features.shape)\n",
    "            #if phase == 'test_missing':\n",
    "               # print('in test-missing dataloaders, since the features are not available, features are filled with zeros', torch.sum(features))\n",
    "            print('domain labels freq: ', torch.unique(domain_labels, return_counts=True))\n",
    "            print('digit labels freq: ', torch.unique(digit_labels, return_counts=True))\n",
    "            print()\n",
    "            break\n",
    "   "
   ]
  },
  {
   "cell_type": "code",
   "execution_count": 5,
   "id": "7f2a9658-e2e2-470a-bebe-0dc9dc0a4934",
   "metadata": {},
   "outputs": [],
   "source": [
    "class model(nn.Module):\n",
    "    def __init__(self) -> None:\n",
    "        super().__init__()\n",
    "        \n",
    "        # define layers\n",
    "        # parameters are defined here\n",
    "        self.flatten = nn.Flatten()\n",
    "        self.fc1 = nn.Linear(in_features=512, out_features=64)\n",
    "        self.fc2 = nn.Linear(in_features=64, out_features=10)\n",
    "        \n",
    "    # Forward Pass\n",
    "    def forward(self, inputs, debug=False):\n",
    "        # You can use any of the Tensor operations in the forward function.\n",
    "        x0 = self.flatten(inputs)\n",
    "        x1 = self.fc1(x0)\n",
    "        x1 = F.relu(x1)\n",
    "        x2 = self.fc2(x1)\n",
    "        outputs = F.relu(x2)\n",
    "        \n",
    "        if debug: \n",
    "            print('inputs shape: ', inputs.shape) # inputs in shape [N, C, H, W]\n",
    "            print('after flattening: ', x0.shape)\n",
    "            print('Activations after 1st fully connected layer: ', x1.shape)\n",
    "            print('Activations after 2nd fully connected layer: ', x2.shape)\n",
    "            print('Output shape: ', outputs.shape)\n",
    "        \n",
    "        return outputs"
   ]
  },
  {
   "cell_type": "code",
   "execution_count": null,
   "id": "dc867964-a44b-43ae-b105-2ce2493b93c5",
   "metadata": {},
   "outputs": [],
   "source": []
  }
 ],
 "metadata": {
  "kernelspec": {
   "display_name": "Python 3 (ipykernel)",
   "language": "python",
   "name": "python3"
  },
  "language_info": {
   "codemirror_mode": {
    "name": "ipython",
    "version": 3
   },
   "file_extension": ".py",
   "mimetype": "text/x-python",
   "name": "python",
   "nbconvert_exporter": "python",
   "pygments_lexer": "ipython3",
   "version": "3.10.9"
  }
 },
 "nbformat": 4,
 "nbformat_minor": 5
}
