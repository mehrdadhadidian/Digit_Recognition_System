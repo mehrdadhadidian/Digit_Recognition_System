{
 "cells": [
  {
   "cell_type": "code",
   "execution_count": 27,
   "id": "fcf61fc6-8b54-45dd-a945-3c90f7c1371c",
   "metadata": {},
   "outputs": [],
   "source": [
    "import torch\n",
    "import torch.nn as nn\n",
    "from utils import get_data_loaders\n",
    "import torch.optim as optim\n",
    "import torchvision\n",
    "import torchvision.transforms as transforms\n",
    "import matplotlib.pyplot as plt"
   ]
  },
  {
   "cell_type": "markdown",
   "id": "0959c727-ca2a-45dc-a6b4-5213fee61ded",
   "metadata": {},
   "source": [
    "## creat cnn model with pytorch"
   ]
  },
  {
   "cell_type": "code",
   "execution_count": 13,
   "id": "aea70410-b953-4e08-a0e5-db1dce8d9cea",
   "metadata": {},
   "outputs": [],
   "source": [
    "class CNN(nn.Module):\n",
    "    def __init__(self):\n",
    "        super(CNN, self).__init__()\n",
    "        \n",
    "        # Define the layers of the CNN\n",
    "        self.conv1 = nn.Conv2d(in_channels=3, out_channels=16, kernel_size=3, padding=1)\n",
    "        self.relu1 = nn.ReLU()\n",
    "        self.pool1 = nn.MaxPool2d(kernel_size=2)\n",
    "        \n",
    "        self.conv2 = nn.Conv2d(in_channels=16, out_channels=32, kernel_size=3, padding=1)\n",
    "        self.relu2 = nn.ReLU()\n",
    "        self.pool2 = nn.MaxPool2d(kernel_size=2)\n",
    "        \n",
    "        self.conv3 = nn.Conv2d(in_channels=32, out_channels=64, kernel_size=3, padding=1)\n",
    "        self.relu3 = nn.ReLU()\n",
    "        self.pool3 = nn.MaxPool2d(kernel_size=2)\n",
    "        \n",
    "        self.fc1 = nn.Linear(in_features=64*4*4, out_features=10)\n",
    "    \n",
    "    def forward(self, x):\n",
    "        # Define the forward pass through the CNN\n",
    "        x = self.conv1(x)\n",
    "        x = self.relu1(x)\n",
    "        x = self.pool1(x)\n",
    "        \n",
    "        x = self.conv2(x)\n",
    "        x = self.relu2(x)\n",
    "        x = self.pool2(x)\n",
    "        \n",
    "        x = self.conv3(x)\n",
    "        x = self.relu3(x)\n",
    "        x = self.pool3(x)\n",
    "        \n",
    "        x = x.view(-1, 64*4*4)\n",
    "        x = self.fc1(x)\n",
    "        \n",
    "        return x\n",
    "    \n",
    "    def predict(self , x):\n",
    "        with torch.no_grad():\n",
    "            x = self.conv1(x)\n",
    "            x = self.relu1(x)\n",
    "            x = self.pool1(x)\n",
    "        \n",
    "            x = self.conv2(x)\n",
    "            x = self.relu2(x)\n",
    "            x = self.pool2(x)\n",
    "        \n",
    "            x = self.conv3(x)\n",
    "            x = self.relu3(x)\n",
    "            x = self.pool3(x)\n",
    "        \n",
    "            x = x.view(-1, 64*4*4)\n",
    "            return x"
   ]
  },
  {
   "cell_type": "markdown",
   "id": "259410b4-933d-4bf5-b119-e319b50b2984",
   "metadata": {},
   "source": [
    "### data loader"
   ]
  },
  {
   "cell_type": "code",
   "execution_count": 10,
   "id": "a6664326-4af3-4549-a811-8faa6e0fd014",
   "metadata": {},
   "outputs": [
    {
     "name": "stdout",
     "output_type": "stream",
     "text": [
      "datafiles to read:  {'train': './data/12000_train_mnistmnistmsvhnsynusps.npz', 'test': './data/12000_test_mnistmnistmsvhnsynusps.npz'}\n",
      "reading ./data/12000_train_mnistmnistmsvhnsynusps.npz, number of samples: 60000\n",
      "reading ./data/12000_test_mnistmnistmsvhnsynusps.npz, number of samples: 21600\n",
      "reading ./data/12000_test_mnistmnistmsvhnsynusps.npz, number of samples: 21600\n"
     ]
    }
   ],
   "source": [
    "#data loader\n",
    "full_dataloaders, _ = get_data_loaders(\n",
    "     filenames={\n",
    "            'train': './data/12000_train_mnistmnistmsvhnsynusps.npz',\n",
    "            'test': './data/12000_test_mnistmnistmsvhnsynusps.npz',\n",
    "      },\n",
    "       batch_size= 64\n",
    "    )"
   ]
  },
  {
   "cell_type": "markdown",
   "id": "4b0566f0-bd39-448e-baaa-b460b8c3d9b5",
   "metadata": {},
   "source": [
    "## training cnn model"
   ]
  },
  {
   "cell_type": "code",
   "execution_count": null,
   "id": "aa4417af-7ca0-42e7-a185-2409fda40702",
   "metadata": {},
   "outputs": [],
   "source": [
    "#creating model\n",
    "cnn = CNN()\n",
    "\n",
    "# Define the loss function and optimizer\n",
    "criterion = nn.CrossEntropyLoss()\n",
    "optimizer = optim.SGD(cnn.parameters(), lr=0.001, momentum=0.9)\n",
    "\n",
    "# Train the CNN\n",
    "for epoch in range(10):  # loop over the dataset multiple times\n",
    "\n",
    "    running_loss = 0.0\n",
    "    for batch_indx, (images, features, domain_labels, digit_labels) in enumerate(full_dataloaders['train']):\n",
    "        # get the inputs; data is a list of [inputs, labels]\n",
    "        # inputs, labels = data\n",
    "\n",
    "        # zero the parameter gradients\n",
    "        optimizer.zero_grad()\n",
    "\n",
    "        # forward + backward + optimize\n",
    "        outputs = cnn.forward(images)\n",
    "        loss = criterion(outputs, digit_labels)\n",
    "        loss.backward()\n",
    "        optimizer.step()\n",
    "\n",
    "        # print statistics\n",
    "        running_loss += loss.item()\n",
    "        if batch_indx % 2000 == 1999:    # print every 2000 mini-batches\n",
    "            print('[%d, %5d] loss: %.3f' %\n",
    "                  (epoch + 1, batch_indx + 1, running_loss / 2000))\n",
    "              \n",
    "    break            "
   ]
  },
  {
   "cell_type": "markdown",
   "id": "bf3b9b26-e7d4-4961-a094-f7fc9d64fb19",
   "metadata": {},
   "source": [
    "## testing cnn"
   ]
  },
  {
   "cell_type": "code",
   "execution_count": 58,
   "id": "8e615229-925b-49c0-a6f8-b18c8c7118d8",
   "metadata": {},
   "outputs": [
    {
     "name": "stderr",
     "output_type": "stream",
     "text": [
      "Clipping input data to the valid range for imshow with RGB data ([0..1] for floats or [0..255] for integers).\n"
     ]
    },
    {
     "data": {
      "image/png": "[encoded data removed]",
      "text/plain": [
       "<Figure size 640x480 with 1 Axes>"
      ]
     },
     "metadata": {},
     "output_type": "display_data"
    },
    {
     "name": "stdout",
     "output_type": "stream",
     "text": [
      "tensor(9)\n"
     ]
    }
   ],
   "source": [
    "(images, features, domain_labels, digit_labels) =next(iter(full_dataloaders['train']))\n",
    "\n",
    "outputs = cnn.forward(images[21])\n",
    "img = torch.einsum('zkij->zijk',images)\n",
    "plt.imshow(img[21])\n",
    "plt.show()\n",
    "print(torch.argmax(outputs))"
   ]
  },
  {
   "cell_type": "code",
   "execution_count": null,
   "id": "0001a89f-b75b-4365-8151-2e7bd5121abb",
   "metadata": {},
   "outputs": [],
   "source": []
  }
 ],
 "metadata": {
  "kernelspec": {
   "display_name": "Python 3 (ipykernel)",
   "language": "python",
   "name": "python3"
  },
  "language_info": {
   "codemirror_mode": {
    "name": "ipython",
    "version": 3
   },
   "file_extension": ".py",
   "mimetype": "text/x-python",
   "name": "python",
   "nbconvert_exporter": "python",
   "pygments_lexer": "ipython3",
   "version": "3.10.9"
  }
 },
 "nbformat": 4,
 "nbformat_minor": 5
}
